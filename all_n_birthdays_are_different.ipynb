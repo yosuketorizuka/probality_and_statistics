{
  "nbformat": 4,
  "nbformat_minor": 0,
  "metadata": {
    "colab": {
      "name": "all_n_birthdays_are_different.ipynb",
      "provenance": [],
      "collapsed_sections": [],
      "authorship_tag": "ABX9TyOovIcQJRSbWlUeD+FC3z9t",
      "include_colab_link": true
    },
    "kernelspec": {
      "name": "python3",
      "display_name": "Python 3"
    },
    "language_info": {
      "name": "python"
    }
  },
  "cells": [
    {
      "cell_type": "markdown",
      "metadata": {
        "id": "view-in-github",
        "colab_type": "text"
      },
      "source": [
        "<a href=\"https://colab.research.google.com/github/yosuketorizuka/probality_and_statistics/blob/main/all_n_birthdays_are_different.ipynb\" target=\"_parent\"><img src=\"https://colab.research.google.com/assets/colab-badge.svg\" alt=\"Open In Colab\"/></a>"
      ]
    },
    {
      "cell_type": "markdown",
      "metadata": {
        "id": "7DFYs_0FrgZ9"
      },
      "source": [
        " Find the probability that n people (n <= 365) selected at random will have n different birthdays. We assume that there are only 365 days in a year and that all birthdays are equally probable, assumptions which are not quite met in reality."
      ]
    },
    {
      "cell_type": "markdown",
      "metadata": {
        "id": "cDHncKbbs-Ag"
      },
      "source": [
        " The first of the n people have of course some birthday with probability 365/365 = 1. Then, if the second is to have a different birthday, it must occur on one of the other 364 days. Therefore, the probability that the second person has a birthday different from the first is 364/365. Similarly, the probability that the third person has a birthday different from the first two is 363/365. Finally, the probability that the nth person has a birthday different from the others is (365-n+1)/365."
      ]
    },
    {
      "cell_type": "markdown",
      "metadata": {
        "id": "6TwwwXYpvxLT"
      },
      "source": [
        "Schaum's Outline of Probability and Statistics, 4th Edition (p.26)"
      ]
    },
    {
      "cell_type": "code",
      "metadata": {
        "id": "vAkoUFbDE79O",
        "colab": {
          "base_uri": "https://localhost:8080/",
          "height": 265
        },
        "outputId": "ced42f35-526d-43ba-a77d-b370475f49cb"
      },
      "source": [
        "import matplotlib as mpl\n",
        "import seaborn as sns\n",
        "import matplotlib.pyplot as plt\n",
        "import numpy as np\n",
        "import sys\n",
        "\n",
        "%matplotlib inline\n",
        "\n",
        "def calc_probability_all_different_birthday(n):\n",
        "  ans = 1.0\n",
        "  for i in range(0, n):\n",
        "    wk = 1 - (i - 1) / 365\n",
        "    ans = ans * wk\n",
        "  return ans\n",
        "\n",
        "def display_probability_all_different_birthday(n):\n",
        "  wk2 =  wk * ((365 - n + 1 ) / 365 ) ** n\n",
        "  return wk2\n",
        "\n",
        "x = []\n",
        "y = []\n",
        "# calc the answer and display it graphecally \n",
        "for i in range(1, 50):\n",
        "  x.append(i)\n",
        "  ans = calc_probability_all_different_birthday(i)\n",
        "  y.append(ans)\n",
        "  plt.plot(x, y)\n",
        "  plt.grid(True)"
      ],
      "execution_count": 8,
      "outputs": [
        {
          "output_type": "display_data",
          "data": {
            "image/png": "[encoded data removed]",
            "text/plain": [
              "<Figure size 432x288 with 1 Axes>"
            ]
          },
          "metadata": {
            "tags": [],
            "needs_background": "light"
          }
        }
      ]
    }
  ]
}