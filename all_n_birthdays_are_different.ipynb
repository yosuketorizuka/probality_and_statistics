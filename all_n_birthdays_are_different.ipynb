{
  "nbformat": 4,
  "nbformat_minor": 0,
  "metadata": {
    "colab": {
      "name": "all_n_birthdays_are_different.ipynb",
      "provenance": [],
      "collapsed_sections": [],
      "authorship_tag": "ABX9TyP84sTRIVmfU8eGs+J9fGTh",
      "include_colab_link": true
    },
    "kernelspec": {
      "name": "python3",
      "display_name": "Python 3"
    },
    "language_info": {
      "name": "python"
    }
  },
  "cells": [
    {
      "cell_type": "markdown",
      "metadata": {
        "id": "view-in-github",
        "colab_type": "text"
      },
      "source": [
        "<a href=\"https://colab.research.google.com/github/yosuketorizuka/probality_and_statistics/blob/main/all_n_birthdays_are_different.ipynb\" target=\"_parent\"><img src=\"https://colab.research.google.com/assets/colab-badge.svg\" alt=\"Open In Colab\"/></a>"
      ]
    },
    {
      "cell_type": "code",
      "metadata": {
        "id": "vAkoUFbDE79O",
        "colab": {
          "base_uri": "https://localhost:8080/",
          "height": 537
        },
        "outputId": "f5dd5a01-dcdd-4225-d8c8-fda330f87942"
      },
      "source": [
        "import matplotlib as mpl\n",
        "import seaborn as sns\n",
        "import matplotlib.pyplot as plt\n",
        "import numpy as np\n",
        "import sys\n",
        "\n",
        "%matplotlib inline\n",
        "\n",
        "def calc_probabity_all_different_birthday(n):\n",
        "  ans = 1.0\n",
        "  for i in range(1, n + 1):\n",
        "    wk = 1 - (i) / 365\n",
        "    ans = ans * wk\n",
        "  return ans\n",
        "\n",
        "def display_probabity_all_different_birthday(n):\n",
        "  return (1 - (n) / 365 ) ** n\n",
        "\n",
        "# display\n",
        "x = np.arange(0, 50)\n",
        "y = display_probabity_all_different_birthday(x)\n",
        "plt.plot(x, y)\n",
        "plt.grid(True)\n",
        "\n",
        "# calc the answer\n",
        "for i in range(20, 24):\n",
        "  less_than_probabity = calc_probabity_all_different_birthday(i)\n",
        "  print(\"n = \")\n",
        "  print(i)\n",
        "  print(\"less_than_probabity = \")\n",
        "  print(less_than_probabity)"
      ],
      "execution_count": 9,
      "outputs": [
        {
          "output_type": "stream",
          "text": [
            "n = \n",
            "20\n",
            "less_than_probabity = \n",
            "0.5563116648347941\n",
            "n = \n",
            "21\n",
            "less_than_probabity = \n",
            "0.5243046923374498\n",
            "n = \n",
            "22\n",
            "less_than_probabity = \n",
            "0.4927027656760145\n",
            "n = \n",
            "23\n",
            "less_than_probabity = \n",
            "0.46165574208547117\n"
          ],
          "name": "stdout"
        },
        {
          "output_type": "display_data",
          "data": {
            "image/png": "[encoded data removed]",
            "text/plain": [
              "<Figure size 432x288 with 1 Axes>"
            ]
          },
          "metadata": {
            "tags": [],
            "needs_background": "light"
          }
        }
      ]
    }
  ]
}