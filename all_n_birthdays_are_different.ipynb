{
  "nbformat": 4,
  "nbformat_minor": 0,
  "metadata": {
    "colab": {
      "name": "all_n_birthdays_are_different.ipynb",
      "provenance": [],
      "collapsed_sections": [],
      "authorship_tag": "ABX9TyNRrLhSw+IBpkDTfljWREsu",
      "include_colab_link": true
    },
    "kernelspec": {
      "name": "python3",
      "display_name": "Python 3"
    },
    "language_info": {
      "name": "python"
    }
  },
  "cells": [
    {
      "cell_type": "markdown",
      "metadata": {
        "id": "view-in-github",
        "colab_type": "text"
      },
      "source": [
        "<a href=\"https://colab.research.google.com/github/yosuketorizuka/probality_and_statistics/blob/main/all_n_birthdays_are_different.ipynb\" target=\"_parent\"><img src=\"https://colab.research.google.com/assets/colab-badge.svg\" alt=\"Open In Colab\"/></a>"
      ]
    },
    {
      "cell_type": "code",
      "metadata": {
        "id": "vAkoUFbDE79O",
        "colab": {
          "base_uri": "https://localhost:8080/",
          "height": 282
        },
        "outputId": "5e6b1d9b-1165-4edc-96c6-5e201263ec56"
      },
      "source": [
        "import matplotlib as mpl\n",
        "import seaborn as sns\n",
        "import matplotlib.pyplot as plt\n",
        "import numpy as np\n",
        "\n",
        "%matplotlib inline\n",
        "\n",
        "def calc_probabity_all_different_birthday(n):\n",
        "  ans = 1.0\n",
        "  for i in range(1, n + 1):\n",
        "    wk = 1 - i / 365\n",
        "    ans = ans * wk\n",
        "  return ans\n",
        "\n",
        "def display_probabity_all_different_birthday(n):\n",
        "  return (1 - (n - 1) / 365 ) ** n\n",
        "\n",
        "x = np.arange(0, 50)\n",
        "y = display_probabity_all_different_birthday(x)\n",
        "\n",
        "plt.plot(x, y)\n",
        "plt.grid(True)\n",
        "\n",
        "print(calc_probabity_all_different_birthday(23))"
      ],
      "execution_count": 20,
      "outputs": [
        {
          "output_type": "stream",
          "text": [
            "0.46165574208547117\n"
          ],
          "name": "stdout"
        },
        {
          "output_type": "display_data",
          "data": {
            "image/png": "[encoded data removed]",
            "text/plain": [
              "<Figure size 432x288 with 1 Axes>"
            ]
          },
          "metadata": {
            "tags": [],
            "needs_background": "light"
          }
        }
      ]
    }
  ]
}