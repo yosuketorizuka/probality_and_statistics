{
  "nbformat": 4,
  "nbformat_minor": 0,
  "metadata": {
    "colab": {
      "name": "all_n_birthdays_are_different.ipynb",
      "provenance": [],
      "collapsed_sections": [],
      "authorship_tag": "ABX9TyOZbLCVbyeQmCQmGeCkJ23+",
      "include_colab_link": true
    },
    "kernelspec": {
      "name": "python3",
      "display_name": "Python 3"
    },
    "language_info": {
      "name": "python"
    }
  },
  "cells": [
    {
      "cell_type": "markdown",
      "metadata": {
        "id": "view-in-github",
        "colab_type": "text"
      },
      "source": [
        "<a href=\"https://colab.research.google.com/github/yosuketorizuka/newton_and_plot/blob/main/all_n_birthdays_are_different.ipynb\" target=\"_parent\"><img src=\"https://colab.research.google.com/assets/colab-badge.svg\" alt=\"Open In Colab\"/></a>"
      ]
    },
    {
      "cell_type": "code",
      "metadata": {
        "colab": {
          "base_uri": "https://localhost:8080/"
        },
        "id": "vAkoUFbDE79O",
        "outputId": "e4ab9e6d-3c42-4119-d54e-8a9eb213cfa6"
      },
      "source": [
        "import matplotlib as mpl\n",
        "import seaborn as sns\n",
        "import matplotlib.pyplot as plt\n",
        "\n",
        "\n",
        "def calc_probabity_all_different_birthday(n):\n",
        "  ans = 1.0\n",
        "  for i in range(1, n + 1):\n",
        "    wk = 1 - i / 365\n",
        "    ans = ans * wk\n",
        "  return ans\n",
        "\n",
        "print(calc_probabity_all_different_birthday(23))"
      ],
      "execution_count": 14,
      "outputs": [
        {
          "output_type": "stream",
          "text": [
            "0.46165574208547117\n"
          ],
          "name": "stdout"
        }
      ]
    }
  ]
}